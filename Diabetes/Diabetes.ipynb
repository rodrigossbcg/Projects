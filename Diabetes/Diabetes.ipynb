{
 "cells": [
  {
   "cell_type": "markdown",
   "metadata": {},
   "source": [
    "<div style=\"background-color: #03d7fc; opacity: 0.7; color: white; padding-top: 20px; padding-bottom: 20px; border-radius: 10px;\">\n",
    " \n",
    "<center>    \n",
    "    <h1><b>KNN Model</b></h1>\n",
    "    <h2>Diabetes dataset</h2>\n",
    "</center>  \n",
    "    \n",
    "<br>\n",
    "<br>\n",
    "    \n",
    "<div style=\"background-color: white; padding: 20px; border-radius: 10px; width: 60%; margin-left: 20%; opacity: 1.3;\">\n",
    "    <img src=\"knn.png\">\n",
    "</div>    \n",
    "    \n",
    "</div>"
   ]
  },
  {
   "cell_type": "code",
   "execution_count": 185,
   "metadata": {},
   "outputs": [],
   "source": [
    "library(class)       # KNN model\n",
    "library(caTools)     # divide yesy and train sets\n",
    "library(psych)       # Graph\n",
    "library(ggplot2)     # Visualization"
   ]
  },
  {
   "cell_type": "markdown",
   "metadata": {},
   "source": [
    "<div style=\"background-color: #03d7fc; opacity: 0.7; color: white; padding-top: 20px; border-radius: 10px;\">\n",
    "<center><h1> 1. Introduction <h1></center>\n",
    "</div>    "
   ]
  },
  {
   "cell_type": "markdown",
   "metadata": {},
   "source": [
    "In this notebook I will implement an <b>K-Nearest Neighbors</b> algorithm. <b>KNN</b> algorithm was created by Evelyn Fix and Joseph Hodges in 1951, it can be used for both regression and classification problems. In this example I will be using KNN for classification, since the problem consists on determining whether a person has diabetes or not. The data set in use is \"diabetes.csv\". This csv file contains medical information related with the diabetes desiese, the variables that compose it are the following: \n",
    "\n",
    "<ul style=\"margin-left: 20px;\">\n",
    "    <li><b>Pregnancies</b> - Number of pregnancies;</li>\n",
    "    <li><b>Glucose</b> - Glucose levels on blood;</li>\n",
    "    <li><b>BloodPressure</b> -  Diastolic blood pressure (mm Hg);</li>\n",
    "    <li><b>SkinThickness</b> - Skin Thickness (mm);</li>\n",
    "    <li><b>Insulin</b> - Insulin level on blood;</li>\n",
    "    <li><b>BMI</b> - Body Mass Index (weight in kg/(height in m)2);</li>\n",
    "    <li><b>DiabetesPedigreeFunction - </b></li>\n",
    "    <li><b>Age</b> - Age of the individual in years;</li>\n",
    "    <li><b>Outcome</b> - Boolean variable reflecting the existance of diabetes in each individual;</li>\n",
    "</ul>\n",
    "\n",
    "Link to dataset: https://www.kaggle.com/uciml/pima-indians-diabetes-database"
   ]
  },
  {
   "cell_type": "markdown",
   "metadata": {},
   "source": [
    "<div style=\"background-color: #03d7fc; opacity: 0.7; color: white; padding-top: 20px; border-radius: 10px;\">\n",
    "<center><h1> 2. Structure <h1></center>\n",
    "</div>    "
   ]
  },
  {
   "cell_type": "code",
   "execution_count": 186,
   "metadata": {},
   "outputs": [],
   "source": [
    "# import dataset\n",
    "diabetes = read.csv(\"diabetes.csv\")"
   ]
  },
  {
   "cell_type": "code",
   "execution_count": 187,
   "metadata": {},
   "outputs": [
    {
     "data": {
      "text/html": [
       "<table>\n",
       "<caption>A data.frame: 5 × 9</caption>\n",
       "<thead>\n",
       "\t<tr><th></th><th scope=col>Pregnancies</th><th scope=col>Glucose</th><th scope=col>BloodPressure</th><th scope=col>SkinThickness</th><th scope=col>Insulin</th><th scope=col>BMI</th><th scope=col>DiabetesPedigreeFunction</th><th scope=col>Age</th><th scope=col>Outcome</th></tr>\n",
       "\t<tr><th></th><th scope=col>&lt;int&gt;</th><th scope=col>&lt;int&gt;</th><th scope=col>&lt;int&gt;</th><th scope=col>&lt;int&gt;</th><th scope=col>&lt;int&gt;</th><th scope=col>&lt;dbl&gt;</th><th scope=col>&lt;dbl&gt;</th><th scope=col>&lt;int&gt;</th><th scope=col>&lt;int&gt;</th></tr>\n",
       "</thead>\n",
       "<tbody>\n",
       "\t<tr><th scope=row>1</th><td>6</td><td>148</td><td>72</td><td>35</td><td>  0</td><td>33.6</td><td>0.627</td><td>50</td><td>1</td></tr>\n",
       "\t<tr><th scope=row>2</th><td>1</td><td> 85</td><td>66</td><td>29</td><td>  0</td><td>26.6</td><td>0.351</td><td>31</td><td>0</td></tr>\n",
       "\t<tr><th scope=row>3</th><td>8</td><td>183</td><td>64</td><td> 0</td><td>  0</td><td>23.3</td><td>0.672</td><td>32</td><td>1</td></tr>\n",
       "\t<tr><th scope=row>4</th><td>1</td><td> 89</td><td>66</td><td>23</td><td> 94</td><td>28.1</td><td>0.167</td><td>21</td><td>0</td></tr>\n",
       "\t<tr><th scope=row>5</th><td>0</td><td>137</td><td>40</td><td>35</td><td>168</td><td>43.1</td><td>2.288</td><td>33</td><td>1</td></tr>\n",
       "</tbody>\n",
       "</table>\n"
      ],
      "text/latex": [
       "A data.frame: 5 × 9\n",
       "\\begin{tabular}{r|lllllllll}\n",
       "  & Pregnancies & Glucose & BloodPressure & SkinThickness & Insulin & BMI & DiabetesPedigreeFunction & Age & Outcome\\\\\n",
       "  & <int> & <int> & <int> & <int> & <int> & <dbl> & <dbl> & <int> & <int>\\\\\n",
       "\\hline\n",
       "\t1 & 6 & 148 & 72 & 35 &   0 & 33.6 & 0.627 & 50 & 1\\\\\n",
       "\t2 & 1 &  85 & 66 & 29 &   0 & 26.6 & 0.351 & 31 & 0\\\\\n",
       "\t3 & 8 & 183 & 64 &  0 &   0 & 23.3 & 0.672 & 32 & 1\\\\\n",
       "\t4 & 1 &  89 & 66 & 23 &  94 & 28.1 & 0.167 & 21 & 0\\\\\n",
       "\t5 & 0 & 137 & 40 & 35 & 168 & 43.1 & 2.288 & 33 & 1\\\\\n",
       "\\end{tabular}\n"
      ],
      "text/markdown": [
       "\n",
       "A data.frame: 5 × 9\n",
       "\n",
       "| <!--/--> | Pregnancies &lt;int&gt; | Glucose &lt;int&gt; | BloodPressure &lt;int&gt; | SkinThickness &lt;int&gt; | Insulin &lt;int&gt; | BMI &lt;dbl&gt; | DiabetesPedigreeFunction &lt;dbl&gt; | Age &lt;int&gt; | Outcome &lt;int&gt; |\n",
       "|---|---|---|---|---|---|---|---|---|---|\n",
       "| 1 | 6 | 148 | 72 | 35 |   0 | 33.6 | 0.627 | 50 | 1 |\n",
       "| 2 | 1 |  85 | 66 | 29 |   0 | 26.6 | 0.351 | 31 | 0 |\n",
       "| 3 | 8 | 183 | 64 |  0 |   0 | 23.3 | 0.672 | 32 | 1 |\n",
       "| 4 | 1 |  89 | 66 | 23 |  94 | 28.1 | 0.167 | 21 | 0 |\n",
       "| 5 | 0 | 137 | 40 | 35 | 168 | 43.1 | 2.288 | 33 | 1 |\n",
       "\n"
      ],
      "text/plain": [
       "  Pregnancies Glucose BloodPressure SkinThickness Insulin BMI \n",
       "1 6           148     72            35              0     33.6\n",
       "2 1            85     66            29              0     26.6\n",
       "3 8           183     64             0              0     23.3\n",
       "4 1            89     66            23             94     28.1\n",
       "5 0           137     40            35            168     43.1\n",
       "  DiabetesPedigreeFunction Age Outcome\n",
       "1 0.627                    50  1      \n",
       "2 0.351                    31  0      \n",
       "3 0.672                    32  1      \n",
       "4 0.167                    21  0      \n",
       "5 2.288                    33  1      "
      ]
     },
     "metadata": {},
     "output_type": "display_data"
    },
    {
     "data": {
      "text/html": [
       "768"
      ],
      "text/latex": [
       "768"
      ],
      "text/markdown": [
       "768"
      ],
      "text/plain": [
       "[1] 768"
      ]
     },
     "metadata": {},
     "output_type": "display_data"
    }
   ],
   "source": [
    "# first five observations\n",
    "head(diabetes, n=5)\n",
    "\n",
    "# number of observations\n",
    "nrow(diabetes)"
   ]
  },
  {
   "cell_type": "code",
   "execution_count": 188,
   "metadata": {},
   "outputs": [
    {
     "data": {
      "text/html": [
       "<table>\n",
       "<caption>A data.frame: 4 × 10</caption>\n",
       "<thead>\n",
       "\t<tr><th scope=col>measure</th><th scope=col>Pregnancies</th><th scope=col>Glucose</th><th scope=col>BloodPressure</th><th scope=col>SkinThickness</th><th scope=col>Insulin</th><th scope=col>BMI</th><th scope=col>DiabetesPedigreeFunction</th><th scope=col>Age</th><th scope=col>Outcome</th></tr>\n",
       "\t<tr><th scope=col>&lt;chr&gt;</th><th scope=col>&lt;dbl&gt;</th><th scope=col>&lt;dbl&gt;</th><th scope=col>&lt;dbl&gt;</th><th scope=col>&lt;dbl&gt;</th><th scope=col>&lt;dbl&gt;</th><th scope=col>&lt;dbl&gt;</th><th scope=col>&lt;dbl&gt;</th><th scope=col>&lt;dbl&gt;</th><th scope=col>&lt;dbl&gt;</th></tr>\n",
       "</thead>\n",
       "<tbody>\n",
       "\t<tr><td>Min   </td><td> 0.000</td><td>  0.0</td><td>  0.00</td><td> 0.00</td><td>  0.0</td><td> 0.00</td><td>  0.0780</td><td>21.00</td><td>0.000</td></tr>\n",
       "\t<tr><td>Max   </td><td>17.000</td><td>199.0</td><td>122.00</td><td>99.00</td><td>846.0</td><td>67.10</td><td>242.0000</td><td>81.00</td><td>1.000</td></tr>\n",
       "\t<tr><td>Median</td><td> 3.000</td><td>117.0</td><td> 72.00</td><td>23.00</td><td> 30.5</td><td>32.00</td><td>  0.3725</td><td>29.00</td><td>0.000</td></tr>\n",
       "\t<tr><td>Mean  </td><td> 3.485</td><td>120.9</td><td> 69.11</td><td>20.54</td><td> 79.8</td><td>31.99</td><td>  0.4719</td><td>33.24</td><td>0.349</td></tr>\n",
       "</tbody>\n",
       "</table>\n"
      ],
      "text/latex": [
       "A data.frame: 4 × 10\n",
       "\\begin{tabular}{llllllllll}\n",
       " measure & Pregnancies & Glucose & BloodPressure & SkinThickness & Insulin & BMI & DiabetesPedigreeFunction & Age & Outcome\\\\\n",
       " <chr> & <dbl> & <dbl> & <dbl> & <dbl> & <dbl> & <dbl> & <dbl> & <dbl> & <dbl>\\\\\n",
       "\\hline\n",
       "\t Min    &  0.000 &   0.0 &   0.00 &  0.00 &   0.0 &  0.00 &   0.0780 & 21.00 & 0.000\\\\\n",
       "\t Max    & 17.000 & 199.0 & 122.00 & 99.00 & 846.0 & 67.10 & 242.0000 & 81.00 & 1.000\\\\\n",
       "\t Median &  3.000 & 117.0 &  72.00 & 23.00 &  30.5 & 32.00 &   0.3725 & 29.00 & 0.000\\\\\n",
       "\t Mean   &  3.485 & 120.9 &  69.11 & 20.54 &  79.8 & 31.99 &   0.4719 & 33.24 & 0.349\\\\\n",
       "\\end{tabular}\n"
      ],
      "text/markdown": [
       "\n",
       "A data.frame: 4 × 10\n",
       "\n",
       "| measure &lt;chr&gt; | Pregnancies &lt;dbl&gt; | Glucose &lt;dbl&gt; | BloodPressure &lt;dbl&gt; | SkinThickness &lt;dbl&gt; | Insulin &lt;dbl&gt; | BMI &lt;dbl&gt; | DiabetesPedigreeFunction &lt;dbl&gt; | Age &lt;dbl&gt; | Outcome &lt;dbl&gt; |\n",
       "|---|---|---|---|---|---|---|---|---|---|\n",
       "| Min    |  0.000 |   0.0 |   0.00 |  0.00 |   0.0 |  0.00 |   0.0780 | 21.00 | 0.000 |\n",
       "| Max    | 17.000 | 199.0 | 122.00 | 99.00 | 846.0 | 67.10 | 242.0000 | 81.00 | 1.000 |\n",
       "| Median |  3.000 | 117.0 |  72.00 | 23.00 |  30.5 | 32.00 |   0.3725 | 29.00 | 0.000 |\n",
       "| Mean   |  3.485 | 120.9 |  69.11 | 20.54 |  79.8 | 31.99 |   0.4719 | 33.24 | 0.349 |\n",
       "\n"
      ],
      "text/plain": [
       "  measure Pregnancies Glucose BloodPressure SkinThickness Insulin BMI  \n",
       "1 Min      0.000        0.0     0.00         0.00           0.0    0.00\n",
       "2 Max     17.000      199.0   122.00        99.00         846.0   67.10\n",
       "3 Median   3.000      117.0    72.00        23.00          30.5   32.00\n",
       "4 Mean     3.485      120.9    69.11        20.54          79.8   31.99\n",
       "  DiabetesPedigreeFunction Age   Outcome\n",
       "1   0.0780                 21.00 0.000  \n",
       "2 242.0000                 81.00 1.000  \n",
       "3   0.3725                 29.00 0.000  \n",
       "4   0.4719                 33.24 0.349  "
      ]
     },
     "metadata": {},
     "output_type": "display_data"
    }
   ],
   "source": [
    "data.frame(measure =c(\"Min\", \"Max\", \"Median\", \"Mean\"),\n",
    "           Pregnancies = c(0, 17, 3, 3.485),\n",
    "           Glucose = c(0, 199, 117, 120.9),\n",
    "           BloodPressure = c(0, 122, 72, 69.11),\n",
    "           SkinThickness = c(0, 99, 23, 20.54),\n",
    "           Insulin = c(0, 846, 30.5, 79.8),\n",
    "           BMI = c(0, 67.10, 32, 31.99),\n",
    "           DiabetesPedigreeFunction = c(0.078, 242, 0.3725, 0.4719),\n",
    "           Age = c(21, 81, 29, 33.24),\n",
    "           Outcome = c(0,1,0,0.349))"
   ]
  },
  {
   "cell_type": "markdown",
   "metadata": {},
   "source": [
    "This dataset has 9 variables, 7 integer and 2 double. The `Outcome` is the target variable, with `1` representing that the observed person has diabetes. We can see that 34.9% of the observations have `Outcome = 1`. All the other variables have different scales. Lets look at some of this variables through visualization."
   ]
  },
  {
   "cell_type": "markdown",
   "metadata": {},
   "source": [
    "<div style=\"background-color: #03d7fc; opacity: 0.7; color: white; padding-top: 20px; border-radius: 10px;\">\n",
    "<center><h1> 3. Visualization <h1></center>\n",
    "</div>    "
   ]
  },
  {
   "cell_type": "code",
   "execution_count": 189,
   "metadata": {},
   "outputs": [
    {
     "data": {
      "image/png": "[encoded data removed]",
      "text/plain": [
       "plot without title"
      ]
     },
     "metadata": {
      "image/png": {
       "height": 420,
       "width": 420
      }
     },
     "output_type": "display_data"
    }
   ],
   "source": [
    "ggplot(diabetes, aes(x=Outcome)) +\n",
    "  geom_bar(fill=c(\"#17a2d1\",\"#36c9c2\")) + \n",
    "  ggtitle(\"Number of Outcomes \\n negative / positive\") + \n",
    "  theme(plot.title = element_text(size=22)) + \n",
    "  theme(plot.title = element_text(hjust = 0.5))"
   ]
  },
  {
   "cell_type": "code",
   "execution_count": 190,
   "metadata": {},
   "outputs": [
    {
     "data": {
      "image/png": "[encoded data removed]",
      "text/plain": [
       "plot without title"
      ]
     },
     "metadata": {
      "image/png": {
       "height": 420,
       "width": 420
      }
     },
     "output_type": "display_data"
    }
   ],
   "source": [
    "ggplot(diabetes, aes(x=as.factor(Outcome), y=Age, fill=Outcome)) +\n",
    "    geom_boxplot() + \n",
    "    ggtitle(\"Boxplot Age by Outcome\") + \n",
    "    xlab(\"Outcome\") + \n",
    "    theme(plot.title = element_text(size=22)) + \n",
    "    theme(plot.title = element_text(hjust = 0.5))"
   ]
  },
  {
   "cell_type": "code",
   "execution_count": 191,
   "metadata": {},
   "outputs": [
    {
     "data": {
      "image/png": "[encoded data removed]",
      "text/plain": [
       "plot without title"
      ]
     },
     "metadata": {
      "image/png": {
       "height": 420,
       "width": 420
      }
     },
     "output_type": "display_data"
    }
   ],
   "source": [
    "ggplot(diabetes, aes(x=as.factor(Outcome), y=BMI, fill=Outcome)) +\n",
    "    geom_boxplot() + \n",
    "    ggtitle(\"Boxplot Age by Outcome\") + \n",
    "    xlab(\"Outcome\") + \n",
    "    theme(plot.title = element_text(size=22)) + \n",
    "    theme(plot.title = element_text(hjust = 0.5))"
   ]
  },
  {
   "cell_type": "markdown",
   "metadata": {},
   "source": [
    "<div style=\"background-color: #03d7fc; opacity: 0.7; color: white; padding-top: 20px; border-radius: 10px;\">\n",
    "<center><h1> 4. Data Cleaning <h1></center>\n",
    "</div>    "
   ]
  },
  {
   "cell_type": "code",
   "execution_count": 192,
   "metadata": {},
   "outputs": [
    {
     "data": {
      "text/plain": [
       "  Pregnancies        Glucose      BloodPressure    SkinThickness  \n",
       " Min.   : 0.000   Min.   :  0.0   Min.   :  0.00   Min.   : 0.00  \n",
       " 1st Qu.: 1.000   1st Qu.: 99.0   1st Qu.: 62.00   1st Qu.: 0.00  \n",
       " Median : 3.000   Median :117.0   Median : 72.00   Median :23.00  \n",
       " Mean   : 3.845   Mean   :120.9   Mean   : 69.11   Mean   :20.54  \n",
       " 3rd Qu.: 6.000   3rd Qu.:140.2   3rd Qu.: 80.00   3rd Qu.:32.00  \n",
       " Max.   :17.000   Max.   :199.0   Max.   :122.00   Max.   :99.00  \n",
       "    Insulin           BMI        DiabetesPedigreeFunction      Age       \n",
       " Min.   :  0.0   Min.   : 0.00   Min.   :0.0780           Min.   :21.00  \n",
       " 1st Qu.:  0.0   1st Qu.:27.30   1st Qu.:0.2437           1st Qu.:24.00  \n",
       " Median : 30.5   Median :32.00   Median :0.3725           Median :29.00  \n",
       " Mean   : 79.8   Mean   :31.99   Mean   :0.4719           Mean   :33.24  \n",
       " 3rd Qu.:127.2   3rd Qu.:36.60   3rd Qu.:0.6262           3rd Qu.:41.00  \n",
       " Max.   :846.0   Max.   :67.10   Max.   :2.4200           Max.   :81.00  \n",
       "    Outcome     \n",
       " Min.   :0.000  \n",
       " 1st Qu.:0.000  \n",
       " Median :0.000  \n",
       " Mean   :0.349  \n",
       " 3rd Qu.:1.000  \n",
       " Max.   :1.000  "
      ]
     },
     "metadata": {},
     "output_type": "display_data"
    }
   ],
   "source": [
    "summary(diabetes)"
   ]
  },
  {
   "cell_type": "markdown",
   "metadata": {},
   "source": [
    "### 4.1 Finding MissingValues:"
   ]
  },
  {
   "cell_type": "markdown",
   "metadata": {},
   "source": [
    "In this section we are going to prepare our data for the algorithm. The first step is to find all values that are wrong, as we saw before there are variables that cannot be zero, but have some obsevations with that value. It means that zero is not actually a value, but a <b>NA code</b>. This variables are: `Glucose`, `BoolPressure`, `SkinThickness` and `BMI`. For each one of this lets count the number of missvalues."
   ]
  },
  {
   "cell_type": "code",
   "execution_count": 193,
   "metadata": {},
   "outputs": [
    {
     "data": {
      "text/html": [
       "5"
      ],
      "text/latex": [
       "5"
      ],
      "text/markdown": [
       "5"
      ],
      "text/plain": [
       "[1] 5"
      ]
     },
     "metadata": {},
     "output_type": "display_data"
    },
    {
     "data": {
      "text/html": [
       "0.651041666666667"
      ],
      "text/latex": [
       "0.651041666666667"
      ],
      "text/markdown": [
       "0.651041666666667"
      ],
      "text/plain": [
       "[1] 0.6510417"
      ]
     },
     "metadata": {},
     "output_type": "display_data"
    }
   ],
   "source": [
    "# It is know that glucose levels below 40mg is letal, because the brain cant work with such low levels. As we can \n",
    "# see below, there are 5 observarions with this variable = 0, lets replace the 0 with the mean for this variable.\n",
    "\n",
    "nrow(diabetes[diabetes$Glucose <  40,])\n",
    "nrow(diabetes[diabetes$Glucose <  40,]) / nrow(diabetes) * 100"
   ]
  },
  {
   "cell_type": "code",
   "execution_count": 194,
   "metadata": {},
   "outputs": [
    {
     "data": {
      "text/html": [
       "35"
      ],
      "text/latex": [
       "35"
      ],
      "text/markdown": [
       "35"
      ],
      "text/plain": [
       "[1] 35"
      ]
     },
     "metadata": {},
     "output_type": "display_data"
    },
    {
     "data": {
      "text/html": [
       "4.55729166666667"
      ],
      "text/latex": [
       "4.55729166666667"
      ],
      "text/markdown": [
       "4.55729166666667"
      ],
      "text/plain": [
       "[1] 4.557292"
      ]
     },
     "metadata": {},
     "output_type": "display_data"
    }
   ],
   "source": [
    "# There were 35 observations with bloodpressure = 0, which is impossible.\n",
    "\n",
    "nrow(diabetes[diabetes$BloodPressure == 0,])\n",
    "nrow(diabetes[diabetes$BloodPressure == 0,]) / nrow(diabetes) * 100"
   ]
  },
  {
   "cell_type": "code",
   "execution_count": 195,
   "metadata": {},
   "outputs": [
    {
     "data": {
      "text/html": [
       "227"
      ],
      "text/latex": [
       "227"
      ],
      "text/markdown": [
       "227"
      ],
      "text/plain": [
       "[1] 227"
      ]
     },
     "metadata": {},
     "output_type": "display_data"
    },
    {
     "data": {
      "text/html": [
       "29.5572916666667"
      ],
      "text/latex": [
       "29.5572916666667"
      ],
      "text/markdown": [
       "29.5572916666667"
      ],
      "text/plain": [
       "[1] 29.55729"
      ]
     },
     "metadata": {},
     "output_type": "display_data"
    }
   ],
   "source": [
    "# As we can see bellow, more that 25% of the observations have a zero value for SkinThickness. Given the dimension\n",
    "# of this missingvalues it is not prudent to change them by the mean of the SkinThickness variable. But there is \n",
    "# something better we can do, we can run a linear regression algorithm to predict this missingvalues\n",
    "\n",
    "nrow(diabetes[diabetes$SkinThickness == 0,])\n",
    "nrow(diabetes[diabetes$SkinThickness == 0,]) / nrow(diabetes) * 100"
   ]
  },
  {
   "cell_type": "code",
   "execution_count": 196,
   "metadata": {},
   "outputs": [
    {
     "data": {
      "text/html": [
       "11"
      ],
      "text/latex": [
       "11"
      ],
      "text/markdown": [
       "11"
      ],
      "text/plain": [
       "[1] 11"
      ]
     },
     "metadata": {},
     "output_type": "display_data"
    },
    {
     "data": {
      "text/html": [
       "1.43229166666667"
      ],
      "text/latex": [
       "1.43229166666667"
      ],
      "text/markdown": [
       "1.43229166666667"
      ],
      "text/plain": [
       "[1] 1.432292"
      ]
     },
     "metadata": {},
     "output_type": "display_data"
    }
   ],
   "source": [
    "# This variable represent the Body Mass Index, which can't be zero, we are going to use the mean method.\n",
    "\n",
    "nrow(diabetes[diabetes$BMI == 0,])\n",
    "nrow(diabetes[diabetes$BMI == 0,]) / nrow(diabetes) * 100"
   ]
  },
  {
   "cell_type": "code",
   "execution_count": 197,
   "metadata": {},
   "outputs": [
    {
     "data": {
      "text/html": [
       "<table>\n",
       "<caption>A data.frame: 1 × 5</caption>\n",
       "<thead>\n",
       "\t<tr><th scope=col>Variable</th><th scope=col>Glucose</th><th scope=col>BloodPressure</th><th scope=col>SkinThickness</th><th scope=col>BMI</th></tr>\n",
       "\t<tr><th scope=col>&lt;chr&gt;</th><th scope=col>&lt;chr&gt;</th><th scope=col>&lt;chr&gt;</th><th scope=col>&lt;chr&gt;</th><th scope=col>&lt;chr&gt;</th></tr>\n",
       "</thead>\n",
       "<tbody>\n",
       "\t<tr><td>NA %</td><td>0,7%</td><td>4,6%</td><td>29.6%</td><td>1.43%</td></tr>\n",
       "</tbody>\n",
       "</table>\n"
      ],
      "text/latex": [
       "A data.frame: 1 × 5\n",
       "\\begin{tabular}{lllll}\n",
       " Variable & Glucose & BloodPressure & SkinThickness & BMI\\\\\n",
       " <chr> & <chr> & <chr> & <chr> & <chr>\\\\\n",
       "\\hline\n",
       "\t NA \\% & 0,7\\% & 4,6\\% & 29.6\\% & 1.43\\%\\\\\n",
       "\\end{tabular}\n"
      ],
      "text/markdown": [
       "\n",
       "A data.frame: 1 × 5\n",
       "\n",
       "| Variable &lt;chr&gt; | Glucose &lt;chr&gt; | BloodPressure &lt;chr&gt; | SkinThickness &lt;chr&gt; | BMI &lt;chr&gt; |\n",
       "|---|---|---|---|---|\n",
       "| NA % | 0,7% | 4,6% | 29.6% | 1.43% |\n",
       "\n"
      ],
      "text/plain": [
       "  Variable Glucose BloodPressure SkinThickness BMI  \n",
       "1 NA %     0,7%    4,6%          29.6%         1.43%"
      ]
     },
     "metadata": {},
     "output_type": "display_data"
    }
   ],
   "source": [
    "data.frame(Variable = c(\"NA %\"), \n",
    "           Glucose = c(\"0,7%\"), \n",
    "           BloodPressure = c(\"4,6%\"), \n",
    "           SkinThickness = c(\"29.6%\"), \n",
    "           BMI = c(\"1.43%\"))"
   ]
  },
  {
   "cell_type": "markdown",
   "metadata": {},
   "source": [
    "The `SkinThickness` variable has to many missvalues (29,6%), so it would be unprudent for me to change all those values with the mean. Instead we can create a linear regression model that based on all the other variables can predict the value of the `SkinThickness`. For that, I am going to create a set with all observations that have `SkinThickness` equal to zero and another one with the remaining observations, that I will use as input for my model."
   ]
  },
  {
   "cell_type": "markdown",
   "metadata": {},
   "source": [
    "### 4.2 Linear Regression model to predict SkinThickness MissingValues"
   ]
  },
  {
   "cell_type": "code",
   "execution_count": 198,
   "metadata": {},
   "outputs": [],
   "source": [
    "# Data frame with missvalues\n",
    "missvalues = diabetes[diabetes$SkinThickness==0,]\n",
    "\n",
    "# Data frame with valid values\n",
    "regression_input = diabetes[!diabetes$SkinThickness==0,]"
   ]
  },
  {
   "cell_type": "code",
   "execution_count": 199,
   "metadata": {},
   "outputs": [
    {
     "data": {
      "text/plain": [
       "\n",
       "Call:\n",
       "lm(formula = SkinThickness ~ BMI + Age, data = regression_input)\n",
       "\n",
       "Residuals:\n",
       "    Min      1Q  Median      3Q     Max \n",
       "-19.353  -5.072  -0.719   4.992  64.893 \n",
       "\n",
       "Coefficients:\n",
       "            Estimate Std. Error t value Pr(>|t|)    \n",
       "(Intercept) -4.04363    1.84620  -2.190  0.02894 *  \n",
       "BMI          0.91175    0.04875  18.703  < 2e-16 ***\n",
       "Age          0.10506    0.03242   3.241  0.00127 ** \n",
       "---\n",
       "Signif. codes:  0 '***' 0.001 '**' 0.01 '*' 0.05 '.' 0.1 ' ' 1\n",
       "\n",
       "Residual standard error: 8.057 on 538 degrees of freedom\n",
       "Multiple R-squared:  0.4109,\tAdjusted R-squared:  0.4087 \n",
       "F-statistic: 187.6 on 2 and 538 DF,  p-value: < 2.2e-16\n"
      ]
     },
     "metadata": {},
     "output_type": "display_data"
    }
   ],
   "source": [
    "# For this model I am going to use two variables to predict the target (BMI, Age)\n",
    "lr1 = lm(SkinThickness ~ BMI + Age, data=regression_input)\n",
    "\n",
    "summary(lr1)"
   ]
  },
  {
   "cell_type": "code",
   "execution_count": 200,
   "metadata": {},
   "outputs": [],
   "source": [
    "# vector with predicted values for SkinThikness\n",
    "predict_SkinThickness = predict(lr1, missvalues)"
   ]
  },
  {
   "cell_type": "code",
   "execution_count": 201,
   "metadata": {},
   "outputs": [
    {
     "data": {
      "text/html": [
       "0"
      ],
      "text/latex": [
       "0"
      ],
      "text/markdown": [
       "0"
      ],
      "text/plain": [
       "[1] 0"
      ]
     },
     "metadata": {},
     "output_type": "display_data"
    }
   ],
   "source": [
    "# insert predicted values on dataframe\n",
    "diabetes$SkinThickness[diabetes$SkinThickness==0] = predict_SkinThickness\n",
    "\n",
    "# Count number of zeros\n",
    "sum(nrow(diabetes[diabetes$SkinThickness == 0,]))"
   ]
  },
  {
   "cell_type": "markdown",
   "metadata": {},
   "source": [
    "For the other variables I am going to use anothor method, I will replace all their missvalues with their mean, since the number of NA's is so reduced."
   ]
  },
  {
   "cell_type": "markdown",
   "metadata": {},
   "source": [
    "### 4.3 Replace MissingValues with mean"
   ]
  },
  {
   "cell_type": "code",
   "execution_count": 202,
   "metadata": {},
   "outputs": [
    {
     "data": {
      "text/html": [
       "0"
      ],
      "text/latex": [
       "0"
      ],
      "text/markdown": [
       "0"
      ],
      "text/plain": [
       "[1] 0"
      ]
     },
     "metadata": {},
     "output_type": "display_data"
    }
   ],
   "source": [
    "# Replace zeros with mean\n",
    "diabetes$Glucose[diabetes$Glucose == 0] = mean(diabetes$Glucose)\n",
    "\n",
    "# Count number of zeros\n",
    "sum(nrow(diabetes[diabetes$Glucose == 0,]))"
   ]
  },
  {
   "cell_type": "code",
   "execution_count": 203,
   "metadata": {},
   "outputs": [
    {
     "data": {
      "text/html": [
       "0"
      ],
      "text/latex": [
       "0"
      ],
      "text/markdown": [
       "0"
      ],
      "text/plain": [
       "[1] 0"
      ]
     },
     "metadata": {},
     "output_type": "display_data"
    }
   ],
   "source": [
    "# Replace zeros with mean\n",
    "diabetes$BloodPressure[diabetes$BloodPressure == 0] = mean(diabetes$BloodPressure)\n",
    "\n",
    "# Count number of zeros\n",
    "nrow(diabetes[diabetes$BloodPressure == 0,])"
   ]
  },
  {
   "cell_type": "code",
   "execution_count": 204,
   "metadata": {},
   "outputs": [
    {
     "data": {
      "text/html": [
       "0"
      ],
      "text/latex": [
       "0"
      ],
      "text/markdown": [
       "0"
      ],
      "text/plain": [
       "[1] 0"
      ]
     },
     "metadata": {},
     "output_type": "display_data"
    }
   ],
   "source": [
    "# Replace zeros with mean\n",
    "diabetes$BMI[diabetes$BMI == 0] = mean(diabetes$BloodPressure)\n",
    "\n",
    "# Count number of zeros\n",
    "nrow(diabetes[diabetes$BMI == 0,])"
   ]
  },
  {
   "cell_type": "markdown",
   "metadata": {},
   "source": [
    "### 4.4 Normalization of the data"
   ]
  },
  {
   "cell_type": "markdown",
   "metadata": {},
   "source": [
    "kNN algorithm uses the concept of distance to predict the target variable. The idea behind this algorithm is that points that are near each other are similar, so the algorithm clusters points of data by it's similarity. The eclidean's distance calculates the distance based on the scale of each variable, for that reason, if we don't want to influence the model, we must normalize the dataset before advancing with the model. To normalize a our data we can use the following formula:\n",
    "<br>\n",
    "<br>\n",
    "$$\n",
    "normalize = \\frac{x \\ - \\ min(x)}{max(x) \\ - \\ min(x)}\n",
    "$$"
   ]
  },
  {
   "cell_type": "code",
   "execution_count": 205,
   "metadata": {},
   "outputs": [],
   "source": [
    "# create function to normalize values\n",
    "normalize = function(x) {\n",
    "    x = (x - min(x)) / (max(x) - min(x))\n",
    "}"
   ]
  },
  {
   "cell_type": "code",
   "execution_count": 206,
   "metadata": {},
   "outputs": [
    {
     "data": {
      "text/html": [
       "<table>\n",
       "<caption>A data.frame: 6 × 9</caption>\n",
       "<thead>\n",
       "\t<tr><th></th><th scope=col>Pregnancies</th><th scope=col>Glucose</th><th scope=col>BloodPressure</th><th scope=col>SkinThickness</th><th scope=col>Insulin</th><th scope=col>BMI</th><th scope=col>DiabetesPedigreeFunction</th><th scope=col>Age</th><th scope=col>Outcome</th></tr>\n",
       "\t<tr><th></th><th scope=col>&lt;dbl&gt;</th><th scope=col>&lt;dbl&gt;</th><th scope=col>&lt;dbl&gt;</th><th scope=col>&lt;dbl&gt;</th><th scope=col>&lt;dbl&gt;</th><th scope=col>&lt;dbl&gt;</th><th scope=col>&lt;dbl&gt;</th><th scope=col>&lt;dbl&gt;</th><th scope=col>&lt;int&gt;</th></tr>\n",
       "</thead>\n",
       "<tbody>\n",
       "\t<tr><th scope=row>1</th><td>0.35294118</td><td>0.6709677</td><td>0.4897959</td><td>0.3653152</td><td>0.0000000</td><td>0.28489603</td><td>0.23441503</td><td>0.4833333</td><td>1</td></tr>\n",
       "\t<tr><th scope=row>2</th><td>0.05882353</td><td>0.2645161</td><td>0.4285714</td><td>0.3058135</td><td>0.0000000</td><td>0.15539784</td><td>0.11656704</td><td>0.1666667</td><td>0</td></tr>\n",
       "\t<tr><th scope=row>3</th><td>0.47058824</td><td>0.8967742</td><td>0.4081633</td><td>0.2221327</td><td>0.0000000</td><td>0.09434869</td><td>0.25362938</td><td>0.1833333</td><td>1</td></tr>\n",
       "\t<tr><th scope=row>4</th><td>0.05882353</td><td>0.2903226</td><td>0.4285714</td><td>0.2463118</td><td>0.1111111</td><td>0.18314745</td><td>0.03800171</td><td>0.0000000</td><td>0</td></tr>\n",
       "\t<tr><th scope=row>5</th><td>0.00000000</td><td>0.6000000</td><td>0.1632653</td><td>0.3653152</td><td>0.1985816</td><td>0.46064359</td><td>0.94363792</td><td>0.2000000</td><td>1</td></tr>\n",
       "\t<tr><th scope=row>6</th><td>0.29411765</td><td>0.4645161</td><td>0.5102041</td><td>0.2408450</td><td>0.0000000</td><td>0.13689809</td><td>0.05251921</td><td>0.1500000</td><td>0</td></tr>\n",
       "</tbody>\n",
       "</table>\n"
      ],
      "text/latex": [
       "A data.frame: 6 × 9\n",
       "\\begin{tabular}{r|lllllllll}\n",
       "  & Pregnancies & Glucose & BloodPressure & SkinThickness & Insulin & BMI & DiabetesPedigreeFunction & Age & Outcome\\\\\n",
       "  & <dbl> & <dbl> & <dbl> & <dbl> & <dbl> & <dbl> & <dbl> & <dbl> & <int>\\\\\n",
       "\\hline\n",
       "\t1 & 0.35294118 & 0.6709677 & 0.4897959 & 0.3653152 & 0.0000000 & 0.28489603 & 0.23441503 & 0.4833333 & 1\\\\\n",
       "\t2 & 0.05882353 & 0.2645161 & 0.4285714 & 0.3058135 & 0.0000000 & 0.15539784 & 0.11656704 & 0.1666667 & 0\\\\\n",
       "\t3 & 0.47058824 & 0.8967742 & 0.4081633 & 0.2221327 & 0.0000000 & 0.09434869 & 0.25362938 & 0.1833333 & 1\\\\\n",
       "\t4 & 0.05882353 & 0.2903226 & 0.4285714 & 0.2463118 & 0.1111111 & 0.18314745 & 0.03800171 & 0.0000000 & 0\\\\\n",
       "\t5 & 0.00000000 & 0.6000000 & 0.1632653 & 0.3653152 & 0.1985816 & 0.46064359 & 0.94363792 & 0.2000000 & 1\\\\\n",
       "\t6 & 0.29411765 & 0.4645161 & 0.5102041 & 0.2408450 & 0.0000000 & 0.13689809 & 0.05251921 & 0.1500000 & 0\\\\\n",
       "\\end{tabular}\n"
      ],
      "text/markdown": [
       "\n",
       "A data.frame: 6 × 9\n",
       "\n",
       "| <!--/--> | Pregnancies &lt;dbl&gt; | Glucose &lt;dbl&gt; | BloodPressure &lt;dbl&gt; | SkinThickness &lt;dbl&gt; | Insulin &lt;dbl&gt; | BMI &lt;dbl&gt; | DiabetesPedigreeFunction &lt;dbl&gt; | Age &lt;dbl&gt; | Outcome &lt;int&gt; |\n",
       "|---|---|---|---|---|---|---|---|---|---|\n",
       "| 1 | 0.35294118 | 0.6709677 | 0.4897959 | 0.3653152 | 0.0000000 | 0.28489603 | 0.23441503 | 0.4833333 | 1 |\n",
       "| 2 | 0.05882353 | 0.2645161 | 0.4285714 | 0.3058135 | 0.0000000 | 0.15539784 | 0.11656704 | 0.1666667 | 0 |\n",
       "| 3 | 0.47058824 | 0.8967742 | 0.4081633 | 0.2221327 | 0.0000000 | 0.09434869 | 0.25362938 | 0.1833333 | 1 |\n",
       "| 4 | 0.05882353 | 0.2903226 | 0.4285714 | 0.2463118 | 0.1111111 | 0.18314745 | 0.03800171 | 0.0000000 | 0 |\n",
       "| 5 | 0.00000000 | 0.6000000 | 0.1632653 | 0.3653152 | 0.1985816 | 0.46064359 | 0.94363792 | 0.2000000 | 1 |\n",
       "| 6 | 0.29411765 | 0.4645161 | 0.5102041 | 0.2408450 | 0.0000000 | 0.13689809 | 0.05251921 | 0.1500000 | 0 |\n",
       "\n"
      ],
      "text/plain": [
       "  Pregnancies Glucose   BloodPressure SkinThickness Insulin   BMI       \n",
       "1 0.35294118  0.6709677 0.4897959     0.3653152     0.0000000 0.28489603\n",
       "2 0.05882353  0.2645161 0.4285714     0.3058135     0.0000000 0.15539784\n",
       "3 0.47058824  0.8967742 0.4081633     0.2221327     0.0000000 0.09434869\n",
       "4 0.05882353  0.2903226 0.4285714     0.2463118     0.1111111 0.18314745\n",
       "5 0.00000000  0.6000000 0.1632653     0.3653152     0.1985816 0.46064359\n",
       "6 0.29411765  0.4645161 0.5102041     0.2408450     0.0000000 0.13689809\n",
       "  DiabetesPedigreeFunction Age       Outcome\n",
       "1 0.23441503               0.4833333 1      \n",
       "2 0.11656704               0.1666667 0      \n",
       "3 0.25362938               0.1833333 1      \n",
       "4 0.03800171               0.0000000 0      \n",
       "5 0.94363792               0.2000000 1      \n",
       "6 0.05251921               0.1500000 0      "
      ]
     },
     "metadata": {},
     "output_type": "display_data"
    }
   ],
   "source": [
    "for (i in 1:8) {\n",
    "    diabetes[i] = normalize(diabetes[i])\n",
    "}\n",
    "\n",
    "head(diabetes)"
   ]
  },
  {
   "cell_type": "code",
   "execution_count": 207,
   "metadata": {},
   "outputs": [
    {
     "data": {
      "text/plain": [
       "  Pregnancies         Glucose       BloodPressure    SkinThickness   \n",
       " Min.   :0.00000   Min.   :0.0000   Min.   :0.0000   Min.   :0.0000  \n",
       " 1st Qu.:0.05882   1st Qu.:0.3597   1st Qu.:0.4082   1st Qu.:0.2364  \n",
       " Median :0.17647   Median :0.4710   Median :0.4898   Median :0.2994  \n",
       " Mean   :0.22618   Mean   :0.5012   Mean   :0.4924   Mean   :0.3020  \n",
       " 3rd Qu.:0.35294   3rd Qu.:0.6210   3rd Qu.:0.5714   3rd Qu.:0.3653  \n",
       " Max.   :1.00000   Max.   :1.0000   Max.   :1.0000   Max.   :1.0000  \n",
       "    Insulin             BMI         DiabetesPedigreeFunction      Age        \n",
       " Min.   :0.00000   Min.   :0.0000   Min.   :0.00000          Min.   :0.0000  \n",
       " 1st Qu.:0.00000   1st Qu.:0.1720   1st Qu.:0.07077          1st Qu.:0.0500  \n",
       " Median :0.03605   Median :0.2627   Median :0.12575          Median :0.1333  \n",
       " Mean   :0.09433   Mean   :0.2743   Mean   :0.16818          Mean   :0.2040  \n",
       " 3rd Qu.:0.15041   3rd Qu.:0.3446   3rd Qu.:0.23409          3rd Qu.:0.3333  \n",
       " Max.   :1.00000   Max.   :1.0000   Max.   :1.00000          Max.   :1.0000  \n",
       "    Outcome     \n",
       " Min.   :0.000  \n",
       " 1st Qu.:0.000  \n",
       " Median :0.000  \n",
       " Mean   :0.349  \n",
       " 3rd Qu.:1.000  \n",
       " Max.   :1.000  "
      ]
     },
     "metadata": {},
     "output_type": "display_data"
    }
   ],
   "source": [
    "summary(diabetes)"
   ]
  },
  {
   "cell_type": "markdown",
   "metadata": {},
   "source": [
    "Now our data is ready for the kNN algorithm, so far we've replaced missingvalues and normalized the dataframe, now it's time to create a test and a train set."
   ]
  },
  {
   "cell_type": "markdown",
   "metadata": {},
   "source": [
    "###  4.5 Train and Test set    "
   ]
  },
  {
   "cell_type": "code",
   "execution_count": 208,
   "metadata": {},
   "outputs": [],
   "source": [
    "# Sample split diabetes\n",
    "\n",
    "set.seed(1)    # so the partition is always the same\n",
    "\n",
    "train = sample.split(diabetes, SplitRatio=0.9)"
   ]
  },
  {
   "cell_type": "code",
   "execution_count": 209,
   "metadata": {},
   "outputs": [],
   "source": [
    "# Train set for KNN model\n",
    "training_set = diabetes[train,-c(9)]\n",
    "\n",
    "# Test set for prediction\n",
    "test_set = diabetes[!train,-c(9)]"
   ]
  },
  {
   "cell_type": "code",
   "execution_count": 210,
   "metadata": {},
   "outputs": [],
   "source": [
    "# Train set labels for KNN model\n",
    "train_labels = diabetes[train, 9]\n",
    "\n",
    "# Test set labels for prediction\n",
    "test_labels = diabetes[!train,9]"
   ]
  },
  {
   "cell_type": "markdown",
   "metadata": {},
   "source": [
    "<div style=\"background-color: #03d7fc; opacity: 0.7; color: white; padding-top: 20px; border-radius: 10px;\">\n",
    "<center><h1> 5. Data Modeling <h1></center>\n",
    "</div>    "
   ]
  },
  {
   "cell_type": "markdown",
   "metadata": {},
   "source": [
    "To model the data we can use the function knn() from the class package. For input this function needs the training set, the test set, the labels of the training data and the number of k. For now we will try running the model with k = {1, 10, 20}, to have an idea about the optimum K."
   ]
  },
  {
   "cell_type": "code",
   "execution_count": 211,
   "metadata": {},
   "outputs": [
    {
     "data": {
      "text/html": [
       "0.647058823529412"
      ],
      "text/latex": [
       "0.647058823529412"
      ],
      "text/markdown": [
       "0.647058823529412"
      ],
      "text/plain": [
       "[1] 0.6470588"
      ]
     },
     "metadata": {},
     "output_type": "display_data"
    }
   ],
   "source": [
    "knn1 = knn(train = training_set, test = test_set, cl = train_labels, k = 1)\n",
    "\n",
    "# accuracy\n",
    "sum(diag(table(knn1, test_labels))) / sum(table(knn1, test_labels))"
   ]
  },
  {
   "cell_type": "code",
   "execution_count": 212,
   "metadata": {},
   "outputs": [
    {
     "data": {
      "text/html": [
       "0.729411764705882"
      ],
      "text/latex": [
       "0.729411764705882"
      ],
      "text/markdown": [
       "0.729411764705882"
      ],
      "text/plain": [
       "[1] 0.7294118"
      ]
     },
     "metadata": {},
     "output_type": "display_data"
    }
   ],
   "source": [
    "knn10 = knn(train = training_set, test = test_set, cl = train_labels, k = 10)\n",
    "\n",
    "# accuracy\n",
    "sum(diag(table(knn10, test_labels))) / sum(table(knn10, test_labels))"
   ]
  },
  {
   "cell_type": "code",
   "execution_count": 213,
   "metadata": {},
   "outputs": [
    {
     "data": {
      "text/html": [
       "0.764705882352941"
      ],
      "text/latex": [
       "0.764705882352941"
      ],
      "text/markdown": [
       "0.764705882352941"
      ],
      "text/plain": [
       "[1] 0.7647059"
      ]
     },
     "metadata": {},
     "output_type": "display_data"
    }
   ],
   "source": [
    "knn20 = knn(train = training_set, test = test_set, cl = train_labels, k = 20)\n",
    "\n",
    "# accuracy\n",
    "sum(diag(table(knn20, test_labels))) / sum(table(knn20, test_labels))"
   ]
  },
  {
   "cell_type": "markdown",
   "metadata": {},
   "source": [
    "As we can see, if the value of k is incremented the accuracy of the model grows. The code above will run the kNN algorithm using different values of K (from 1 to 200), in order to understand which is the best K for this problem. "
   ]
  },
  {
   "cell_type": "code",
   "execution_count": 214,
   "metadata": {},
   "outputs": [],
   "source": [
    "set.seed(1)\n",
    "accuracy = c()\n",
    "\n",
    "for (k in c(1:200)) {\n",
    "    knn = knn(train = training_set, test = test_set, cl = train_labels, k = k)\n",
    "    confusion_m = table(knn, test_labels)\n",
    "    accuracy[k] = sum(diag(confusion_m) / sum(confusion_m))\n",
    "}"
   ]
  },
  {
   "cell_type": "code",
   "execution_count": 215,
   "metadata": {},
   "outputs": [],
   "source": [
    "graph = data.frame(x = c(1:200), y = accuracy)"
   ]
  },
  {
   "cell_type": "code",
   "execution_count": 216,
   "metadata": {},
   "outputs": [
    {
     "data": {
      "image/png": "[encoded data removed]",
      "text/plain": [
       "plot without title"
      ]
     },
     "metadata": {
      "image/png": {
       "height": 420,
       "width": 420
      }
     },
     "output_type": "display_data"
    }
   ],
   "source": [
    "ggplot(graph, aes(x=x, y=y)) +\n",
    "  geom_point(size=2) + \n",
    "  xlab(\"K\") + \n",
    "  ylab(\"Accuracy\") + \n",
    "  ggtitle(\"Accuracy vs K\") + \n",
    "  theme(plot.title = element_text(size=22)) + \n",
    "  theme(plot.title = element_text(hjust = 0.5))"
   ]
  },
  {
   "cell_type": "code",
   "execution_count": 217,
   "metadata": {},
   "outputs": [
    {
     "data": {
      "text/html": [
       "92"
      ],
      "text/latex": [
       "92"
      ],
      "text/markdown": [
       "92"
      ],
      "text/plain": [
       "[1] 92"
      ]
     },
     "metadata": {},
     "output_type": "display_data"
    },
    {
     "data": {
      "text/html": [
       "0.823529411764706"
      ],
      "text/latex": [
       "0.823529411764706"
      ],
      "text/markdown": [
       "0.823529411764706"
      ],
      "text/plain": [
       "[1] 0.8235294"
      ]
     },
     "metadata": {},
     "output_type": "display_data"
    }
   ],
   "source": [
    "which.max(accuracy)\n",
    "max(accuracy)"
   ]
  },
  {
   "cell_type": "markdown",
   "metadata": {},
   "source": [
    "According to the graph the K that minimizes the errors is 92 or 93, with an accuracy of 82.6%. Now we will look at some metrics to evaluate the preformance of the model."
   ]
  },
  {
   "cell_type": "markdown",
   "metadata": {},
   "source": [
    "<div style=\"background-color: #03d7fc; opacity: 0.7; color: white; padding-top: 20px; border-radius: 10px;\">\n",
    "<center><h1> 6. Prediction Metrics <h1></center>\n",
    "</div>    "
   ]
  },
  {
   "cell_type": "code",
   "execution_count": 218,
   "metadata": {},
   "outputs": [],
   "source": [
    "set.seed(1)\n",
    "\n",
    "knn93 = knn(train = training_set, test = test_set, cl = train_labels, k = 93)"
   ]
  },
  {
   "cell_type": "code",
   "execution_count": 219,
   "metadata": {
    "scrolled": true
   },
   "outputs": [
    {
     "data": {
      "text/plain": [
       "     test_labels\n",
       "knn93  0  1\n",
       "    0 54 13\n",
       "    1  2 16"
      ]
     },
     "metadata": {},
     "output_type": "display_data"
    }
   ],
   "source": [
    "confusion_m = table(knn93, test_labels)\n",
    "confusion_m"
   ]
  },
  {
   "cell_type": "code",
   "execution_count": 220,
   "metadata": {},
   "outputs": [
    {
     "data": {
      "text/html": [
       "0.823529411764706"
      ],
      "text/latex": [
       "0.823529411764706"
      ],
      "text/markdown": [
       "0.823529411764706"
      ],
      "text/plain": [
       "[1] 0.8235294"
      ]
     },
     "metadata": {},
     "output_type": "display_data"
    }
   ],
   "source": [
    "accuracy = sum(diag(confusion_m)) / sum(confusion_m)\n",
    "accuracy"
   ]
  },
  {
   "cell_type": "code",
   "execution_count": 221,
   "metadata": {},
   "outputs": [
    {
     "data": {
      "text/html": [
       "0.176470588235294"
      ],
      "text/latex": [
       "0.176470588235294"
      ],
      "text/markdown": [
       "0.176470588235294"
      ],
      "text/plain": [
       "[1] 0.1764706"
      ]
     },
     "metadata": {},
     "output_type": "display_data"
    }
   ],
   "source": [
    "# proportion of missclassified values\n",
    "missclassified = 1 - (sum(diag(confusion_m)) / sum(confusion_m))\n",
    "missclassified"
   ]
  },
  {
   "cell_type": "code",
   "execution_count": 222,
   "metadata": {},
   "outputs": [
    {
     "data": {
      "text/html": [
       "0.964285714285714"
      ],
      "text/latex": [
       "0.964285714285714"
      ],
      "text/markdown": [
       "0.964285714285714"
      ],
      "text/plain": [
       "[1] 0.9642857"
      ]
     },
     "metadata": {},
     "output_type": "display_data"
    }
   ],
   "source": [
    "# precision prediction people without diabetes\n",
    "precision_0 = confusion_m[1,1] / sum(confusion_m[,1])\n",
    "precision_0"
   ]
  },
  {
   "cell_type": "code",
   "execution_count": 223,
   "metadata": {},
   "outputs": [
    {
     "data": {
      "text/html": [
       "0.551724137931034"
      ],
      "text/latex": [
       "0.551724137931034"
      ],
      "text/markdown": [
       "0.551724137931034"
      ],
      "text/plain": [
       "[1] 0.5517241"
      ]
     },
     "metadata": {},
     "output_type": "display_data"
    }
   ],
   "source": [
    "# precision prediction people with diabetes\n",
    "precision_1 = confusion_m[2,2] / sum(confusion_m[,2])\n",
    "precision_1"
   ]
  },
  {
   "cell_type": "code",
   "execution_count": 224,
   "metadata": {},
   "outputs": [
    {
     "data": {
      "text/html": [
       "0.805970149253731"
      ],
      "text/latex": [
       "0.805970149253731"
      ],
      "text/markdown": [
       "0.805970149253731"
      ],
      "text/plain": [
       "[1] 0.8059701"
      ]
     },
     "metadata": {},
     "output_type": "display_data"
    }
   ],
   "source": [
    "# proportion of right classifications for 0\n",
    "precision_1 = confusion_m[1,1] / sum(confusion_m[1,])\n",
    "precision_1"
   ]
  },
  {
   "cell_type": "code",
   "execution_count": 225,
   "metadata": {},
   "outputs": [
    {
     "data": {
      "text/html": [
       "0.888888888888889"
      ],
      "text/latex": [
       "0.888888888888889"
      ],
      "text/markdown": [
       "0.888888888888889"
      ],
      "text/plain": [
       "[1] 0.8888889"
      ]
     },
     "metadata": {},
     "output_type": "display_data"
    }
   ],
   "source": [
    "# proportion of right classifications for 1\n",
    "precision_1 = confusion_m[2,2] / sum(confusion_m[2,])\n",
    "precision_1"
   ]
  },
  {
   "cell_type": "markdown",
   "metadata": {},
   "source": [
    "In this notebook we created a model that predicts with 82,4% accuracy if a person has or not diabetes. By looking at the `confusion_m` we realize that out model has a very high accuracy (96,4%) when predicting observations with Outcome equal to zero. On the other hand, the model accuracy for observations with Outcome equal to 1 is 55,2%. In conclusion or KNN model has a better performance precting Outcome=0 that Outcome=1. Given that, this model could be used as a double check to make sure that an individual doesn't have diabetes."
   ]
  },
  {
   "cell_type": "markdown",
   "metadata": {},
   "source": [
    "<div style=\"background-color: #03d7fc; opacity: 0.7; color: white; padding-top: 20px; border-radius: 10px;\">\n",
    "<center><h1> Thank you for reading! <h1></center>\n",
    "</div>    "
   ]
  }
 ],
 "metadata": {
  "kernelspec": {
   "display_name": "R",
   "language": "R",
   "name": "ir"
  },
  "language_info": {
   "codemirror_mode": "r",
   "file_extension": ".r",
   "mimetype": "text/x-r-source",
   "name": "R",
   "pygments_lexer": "r",
   "version": "4.0.3"
  }
 },
 "nbformat": 4,
 "nbformat_minor": 4
}
